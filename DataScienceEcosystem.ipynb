{
 "cells": [
  {
   "cell_type": "markdown",
   "id": "68919317-dc94-470c-8d73-299b6ed45192",
   "metadata": {},
   "source": [
    "# Data Science Tools and Ecosystem"
   ]
  },
  {
   "cell_type": "markdown",
   "id": "16b6c910-7259-4712-8121-0771bffcd964",
   "metadata": {},
   "source": [
    "# Introduction\n",
    "In this notebook, Data Science Tools and Ecosystem are summarized,"
   ]
  },
  {
   "cell_type": "markdown",
   "id": "f16dcf00-c61d-4c6d-ac6f-70121e782df0",
   "metadata": {},
   "source": [
    "**Objectives:**\n",
    "- List popular languages for Data Science\n",
    "- Identify commonly used libraries in Data Science\n",
    "- Highlight essential data science tools and development environments\n",
    "- Perform basic arithmetic operations in Python\n",
    "- Convert time units using Python"
   ]
  },
  {
   "cell_type": "markdown",
   "id": "a5dc2bd3-005c-4b7d-a9c1-67107881681e",
   "metadata": {},
   "source": [
    "# Data Science Languages\n",
    "Some of the popular languages that Data Scientists use are:\n",
    "1. Python\n",
    "2. R\n",
    "3. SQL\n",
    "4. Julia\n",
    "5. Scala"
   ]
  },
  {
   "cell_type": "markdown",
   "id": "98b66d84-c086-41d0-afc8-d38b312f65c5",
   "metadata": {},
   "source": [
    "# Data Science Libraries\n",
    "Some of the commonly used libraries used by Data Scientists include:\n",
    "1. Pandas\n",
    "2. NumPy\n",
    "3. Matplotlib\n",
    "4. Scikit-learn\n",
    "5. TensorFlow\n",
    "6. ggplot2"
   ]
  },
  {
   "cell_type": "markdown",
   "id": "2bdfcf08-8266-4b1a-8bda-60c2e1511c43",
   "metadata": {},
   "source": [
    "# Data Science tools Table\n",
    "\n",
    "Table of Data Science tools:\n",
    "\n",
    "| Data Science Tools |\n",
    "|--------------------|\n",
    "| Jupyter Notebook   |\n",
    "| RStudio            |\n",
    "| Apache Zeppelin    |\n",
    "| GitHub             |"
   ]
  },
  {
   "cell_type": "markdown",
   "id": "f3f4ed07-60c8-4b5a-b422-8ae8820d46a5",
   "metadata": {},
   "source": [
    "### Below are a few examples of evaluating arithmetic expressions in Python"
   ]
  },
  {
   "cell_type": "code",
   "execution_count": 46,
   "id": "333c1301-145b-4f37-8ddd-98c83e888cdd",
   "metadata": {},
   "outputs": [
    {
     "name": "stdout",
     "output_type": "stream",
     "text": [
      "3\n"
     ]
    }
   ],
   "source": [
    "x=1\n",
    "y=2\n",
    "Result=x+y\n",
    "print(Result)"
   ]
  },
  {
   "cell_type": "code",
   "execution_count": 53,
   "id": "e1c4de29-eead-4fd6-9445-bbfe49a20d48",
   "metadata": {},
   "outputs": [
    {
     "name": "stdout",
     "output_type": "stream",
     "text": [
      "17\n"
     ]
    }
   ],
   "source": [
    "#This a simple arithmetic expression to mutiply then add integers\n",
    "Result=(3*4)+5\n",
    "print(Result)"
   ]
  },
  {
   "cell_type": "code",
   "execution_count": 55,
   "id": "fdc0d88f-946d-449b-a156-806fd58bb405",
   "metadata": {},
   "outputs": [
    {
     "name": "stdout",
     "output_type": "stream",
     "text": [
      "3.3333333333333335\n"
     ]
    }
   ],
   "source": [
    "#This will convert 200 minutes to hours by diving by 60\n",
    "Minutes=200\n",
    "Hours=Minutes/60\n",
    "print(Hours)"
   ]
  },
  {
   "cell_type": "markdown",
   "id": "d57fb271-6591-474d-a22e-502171b13867",
   "metadata": {},
   "source": [
    "## Author\n",
    "Mouna El Majdaki"
   ]
  }
 ],
 "metadata": {
  "kernelspec": {
   "display_name": "Python [conda env:base] *",
   "language": "python",
   "name": "conda-base-py"
  },
  "language_info": {
   "codemirror_mode": {
    "name": "ipython",
    "version": 3
   },
   "file_extension": ".py",
   "mimetype": "text/x-python",
   "name": "python",
   "nbconvert_exporter": "python",
   "pygments_lexer": "ipython3",
   "version": "3.12.7"
  }
 },
 "nbformat": 4,
 "nbformat_minor": 5
}
